{
 "cells": [
  {
   "cell_type": "markdown",
   "metadata": {},
   "source": [
    "# Population Data from CSV\n",
    "\n",
    "This notebooks reads sample population data from `data/atlantis.csv` and plots it using Matplotlib. Edit `data/atlantis.csv` and re-run this cell to see how the plots change!"
   ]
  },
  {
   "cell_type": "code",
   "execution_count": 4,
   "metadata": {},
   "outputs": [],
   "source": [
    "import matplotlib.pyplot as plt\n",
    "import pandas as pd\n",
    "import numpy as np\n",
    "import seaborn as sns\n"
   ]
  },
  {
   "cell_type": "markdown",
   "metadata": {},
   "source": [
    "## Research Question \n",
    "Why do Video Games Fail? Predicting Game flop Using Reviews, Trailers, and Steam Metrics."
   ]
  },
  {
   "cell_type": "code",
   "execution_count": 5,
   "metadata": {},
   "outputs": [
    {
     "data": {
      "text/html": [
       "<div>\n",
       "<style scoped>\n",
       "    .dataframe tbody tr th:only-of-type {\n",
       "        vertical-align: middle;\n",
       "    }\n",
       "\n",
       "    .dataframe tbody tr th {\n",
       "        vertical-align: top;\n",
       "    }\n",
       "\n",
       "    .dataframe thead th {\n",
       "        text-align: right;\n",
       "    }\n",
       "</style>\n",
       "<table border=\"1\" class=\"dataframe\">\n",
       "  <thead>\n",
       "    <tr style=\"text-align: right;\">\n",
       "      <th></th>\n",
       "      <th>Title</th>\n",
       "      <th>Original Price</th>\n",
       "      <th>Discounted Price</th>\n",
       "      <th>Release Date</th>\n",
       "      <th>Link</th>\n",
       "      <th>Game Description</th>\n",
       "      <th>Recent Reviews Summary</th>\n",
       "      <th>All Reviews Summary</th>\n",
       "      <th>Recent Reviews Number</th>\n",
       "      <th>All Reviews Number</th>\n",
       "      <th>Developer</th>\n",
       "      <th>Publisher</th>\n",
       "      <th>Supported Languages</th>\n",
       "      <th>Popular Tags</th>\n",
       "      <th>Game Features</th>\n",
       "      <th>Minimum Requirements</th>\n",
       "    </tr>\n",
       "  </thead>\n",
       "  <tbody>\n",
       "    <tr>\n",
       "      <th>0</th>\n",
       "      <td>Baldur's Gate 3</td>\n",
       "      <td>$29.99</td>\n",
       "      <td>$29.99</td>\n",
       "      <td>3 Aug, 2023</td>\n",
       "      <td>https://store.steampowered.com/app/1086940/Bal...</td>\n",
       "      <td>Baldur’s Gate 3 is a story-rich, party-based R...</td>\n",
       "      <td>Overwhelmingly Positive</td>\n",
       "      <td>Very Positive</td>\n",
       "      <td>- 96% of the 128,900 user reviews in the last ...</td>\n",
       "      <td>- 94% of the 188,617 user reviews for this gam...</td>\n",
       "      <td>Larian Studios</td>\n",
       "      <td>Larian Studios</td>\n",
       "      <td>['English', 'French', 'German', 'Spanish - Spa...</td>\n",
       "      <td>['RPG', 'Choices Matter', 'Character Customiza...</td>\n",
       "      <td>['Single-player', 'Online Co-op', 'LAN Co-op',...</td>\n",
       "      <td>Requires a 64-bit processor and operating syst...</td>\n",
       "    </tr>\n",
       "    <tr>\n",
       "      <th>1</th>\n",
       "      <td>Counter-Strike: Global Offensive</td>\n",
       "      <td>$14.99</td>\n",
       "      <td>$14.99</td>\n",
       "      <td>21 Aug, 2012</td>\n",
       "      <td>https://store.steampowered.com/app/730/Counter...</td>\n",
       "      <td>Counter-Strike: Global Offensive (CS: GO) expa...</td>\n",
       "      <td>Very Positive</td>\n",
       "      <td>Very Positive</td>\n",
       "      <td>- 89% of the 75,284 user reviews in the last 3...</td>\n",
       "      <td>- 88% of the 7,428,921 user reviews for this g...</td>\n",
       "      <td>Valve, Hidden Path Entertainment</td>\n",
       "      <td>Valve</td>\n",
       "      <td>['English', 'Czech', 'Danish', 'Dutch', 'Finni...</td>\n",
       "      <td>['FPS', 'Shooter', 'Multiplayer', 'Competitive...</td>\n",
       "      <td>['Steam Achievements', 'Full controller suppor...</td>\n",
       "      <td>OS: |  Windows® 7/Vista/XP | Processor: |  Int...</td>\n",
       "    </tr>\n",
       "    <tr>\n",
       "      <th>2</th>\n",
       "      <td>Apex Legends™</td>\n",
       "      <td>Free</td>\n",
       "      <td>Free</td>\n",
       "      <td>4 Nov, 2020</td>\n",
       "      <td>https://store.steampowered.com/app/1172470/Ape...</td>\n",
       "      <td>Apex Legends is the award-winning, free-to-pla...</td>\n",
       "      <td>Mixed</td>\n",
       "      <td>Very Positive</td>\n",
       "      <td>- 65% of the 18,581 user reviews in the last 3...</td>\n",
       "      <td>- 80% of the 701,597 user reviews for this gam...</td>\n",
       "      <td>Respawn Entertainment</td>\n",
       "      <td>Electronic Arts</td>\n",
       "      <td>['English', 'French', 'Italian', 'German', 'Sp...</td>\n",
       "      <td>['Free to Play', 'Multiplayer', 'Battle Royale...</td>\n",
       "      <td>['Online PvP', 'Online Co-op', 'Steam Achievem...</td>\n",
       "      <td>Requires a 64-bit processor and operating syst...</td>\n",
       "    </tr>\n",
       "    <tr>\n",
       "      <th>3</th>\n",
       "      <td>Forza Horizon 5</td>\n",
       "      <td>$34.78</td>\n",
       "      <td>$17.39</td>\n",
       "      <td>8 Nov, 2021</td>\n",
       "      <td>https://store.steampowered.com/app/1551360/For...</td>\n",
       "      <td>Your Ultimate Horizon Adventure awaits! Explor...</td>\n",
       "      <td>Very Positive</td>\n",
       "      <td>Very Positive</td>\n",
       "      <td>- 87% of the 4,120 user reviews in the last 30...</td>\n",
       "      <td>- 88% of the 123,162 user reviews for this gam...</td>\n",
       "      <td>Playground Games</td>\n",
       "      <td>Xbox Game Studios</td>\n",
       "      <td>['English', 'French', 'Italian', 'German', 'Sp...</td>\n",
       "      <td>['Racing', 'Open World', 'Driving', 'Multiplay...</td>\n",
       "      <td>['Single-player', 'Online PvP', 'Online Co-op'...</td>\n",
       "      <td>Requires a 64-bit processor and operating syst...</td>\n",
       "    </tr>\n",
       "    <tr>\n",
       "      <th>4</th>\n",
       "      <td>Call of Duty®</td>\n",
       "      <td>Free</td>\n",
       "      <td>Free</td>\n",
       "      <td>27 Oct, 2022</td>\n",
       "      <td>https://store.steampowered.com/app/1938090/Cal...</td>\n",
       "      <td>Welcome to Call of Duty® HQ, the home of Call ...</td>\n",
       "      <td>Mixed</td>\n",
       "      <td>Mixed</td>\n",
       "      <td>- 49% of the 8,257 user reviews in the last 30...</td>\n",
       "      <td>- 57% of the 236,876 user reviews for this gam...</td>\n",
       "      <td>Infinity Ward, Raven Software, Beenox, Treyarc...</td>\n",
       "      <td>Activision</td>\n",
       "      <td>['English', 'French', 'Italian', 'German', 'Sp...</td>\n",
       "      <td>['FPS', 'Multiplayer', 'Shooter', 'Action', 'S...</td>\n",
       "      <td>['Single-player', 'Online PvP', 'Online Co-op'...</td>\n",
       "      <td>Requires a 64-bit processor and operating syst...</td>\n",
       "    </tr>\n",
       "  </tbody>\n",
       "</table>\n",
       "</div>"
      ],
      "text/plain": [
       "                              Title Original Price Discounted Price  \\\n",
       "0                   Baldur's Gate 3         $29.99           $29.99   \n",
       "1  Counter-Strike: Global Offensive         $14.99           $14.99   \n",
       "2                     Apex Legends™           Free             Free   \n",
       "3                   Forza Horizon 5         $34.78           $17.39   \n",
       "4                     Call of Duty®           Free             Free   \n",
       "\n",
       "   Release Date                                               Link  \\\n",
       "0   3 Aug, 2023  https://store.steampowered.com/app/1086940/Bal...   \n",
       "1  21 Aug, 2012  https://store.steampowered.com/app/730/Counter...   \n",
       "2   4 Nov, 2020  https://store.steampowered.com/app/1172470/Ape...   \n",
       "3   8 Nov, 2021  https://store.steampowered.com/app/1551360/For...   \n",
       "4  27 Oct, 2022  https://store.steampowered.com/app/1938090/Cal...   \n",
       "\n",
       "                                    Game Description   Recent Reviews Summary  \\\n",
       "0  Baldur’s Gate 3 is a story-rich, party-based R...  Overwhelmingly Positive   \n",
       "1  Counter-Strike: Global Offensive (CS: GO) expa...            Very Positive   \n",
       "2  Apex Legends is the award-winning, free-to-pla...                    Mixed   \n",
       "3  Your Ultimate Horizon Adventure awaits! Explor...            Very Positive   \n",
       "4  Welcome to Call of Duty® HQ, the home of Call ...                    Mixed   \n",
       "\n",
       "  All Reviews Summary                              Recent Reviews Number  \\\n",
       "0       Very Positive  - 96% of the 128,900 user reviews in the last ...   \n",
       "1       Very Positive  - 89% of the 75,284 user reviews in the last 3...   \n",
       "2       Very Positive  - 65% of the 18,581 user reviews in the last 3...   \n",
       "3       Very Positive  - 87% of the 4,120 user reviews in the last 30...   \n",
       "4               Mixed  - 49% of the 8,257 user reviews in the last 30...   \n",
       "\n",
       "                                  All Reviews Number  \\\n",
       "0  - 94% of the 188,617 user reviews for this gam...   \n",
       "1  - 88% of the 7,428,921 user reviews for this g...   \n",
       "2  - 80% of the 701,597 user reviews for this gam...   \n",
       "3  - 88% of the 123,162 user reviews for this gam...   \n",
       "4  - 57% of the 236,876 user reviews for this gam...   \n",
       "\n",
       "                                           Developer          Publisher  \\\n",
       "0                                     Larian Studios     Larian Studios   \n",
       "1                   Valve, Hidden Path Entertainment              Valve   \n",
       "2                              Respawn Entertainment    Electronic Arts   \n",
       "3                                   Playground Games  Xbox Game Studios   \n",
       "4  Infinity Ward, Raven Software, Beenox, Treyarc...         Activision   \n",
       "\n",
       "                                 Supported Languages  \\\n",
       "0  ['English', 'French', 'German', 'Spanish - Spa...   \n",
       "1  ['English', 'Czech', 'Danish', 'Dutch', 'Finni...   \n",
       "2  ['English', 'French', 'Italian', 'German', 'Sp...   \n",
       "3  ['English', 'French', 'Italian', 'German', 'Sp...   \n",
       "4  ['English', 'French', 'Italian', 'German', 'Sp...   \n",
       "\n",
       "                                        Popular Tags  \\\n",
       "0  ['RPG', 'Choices Matter', 'Character Customiza...   \n",
       "1  ['FPS', 'Shooter', 'Multiplayer', 'Competitive...   \n",
       "2  ['Free to Play', 'Multiplayer', 'Battle Royale...   \n",
       "3  ['Racing', 'Open World', 'Driving', 'Multiplay...   \n",
       "4  ['FPS', 'Multiplayer', 'Shooter', 'Action', 'S...   \n",
       "\n",
       "                                       Game Features  \\\n",
       "0  ['Single-player', 'Online Co-op', 'LAN Co-op',...   \n",
       "1  ['Steam Achievements', 'Full controller suppor...   \n",
       "2  ['Online PvP', 'Online Co-op', 'Steam Achievem...   \n",
       "3  ['Single-player', 'Online PvP', 'Online Co-op'...   \n",
       "4  ['Single-player', 'Online PvP', 'Online Co-op'...   \n",
       "\n",
       "                                Minimum Requirements  \n",
       "0  Requires a 64-bit processor and operating syst...  \n",
       "1  OS: |  Windows® 7/Vista/XP | Processor: |  Int...  \n",
       "2  Requires a 64-bit processor and operating syst...  \n",
       "3  Requires a 64-bit processor and operating syst...  \n",
       "4  Requires a 64-bit processor and operating syst...  "
      ]
     },
     "execution_count": 5,
     "metadata": {},
     "output_type": "execute_result"
    }
   ],
   "source": [
    "game_data = pd.read_csv('/workspaces/codespaces-jupyter/data/merged_data.csv')\n",
    "game_data.head()"
   ]
  },
  {
   "cell_type": "code",
   "execution_count": 6,
   "metadata": {},
   "outputs": [
    {
     "data": {
      "text/html": [
       "<div>\n",
       "<style scoped>\n",
       "    .dataframe tbody tr th:only-of-type {\n",
       "        vertical-align: middle;\n",
       "    }\n",
       "\n",
       "    .dataframe tbody tr th {\n",
       "        vertical-align: top;\n",
       "    }\n",
       "\n",
       "    .dataframe thead th {\n",
       "        text-align: right;\n",
       "    }\n",
       "</style>\n",
       "<table border=\"1\" class=\"dataframe\">\n",
       "  <thead>\n",
       "    <tr style=\"text-align: right;\">\n",
       "      <th></th>\n",
       "      <th>Title</th>\n",
       "      <th>Original Price</th>\n",
       "      <th>Discounted Price</th>\n",
       "      <th>Release Date</th>\n",
       "      <th>Link</th>\n",
       "      <th>Game Description</th>\n",
       "      <th>Recent Reviews Summary</th>\n",
       "      <th>All Reviews Summary</th>\n",
       "      <th>Recent Reviews Number</th>\n",
       "      <th>All Reviews Number</th>\n",
       "      <th>Developer</th>\n",
       "      <th>Publisher</th>\n",
       "      <th>Supported Languages</th>\n",
       "      <th>Popular Tags</th>\n",
       "      <th>Game Features</th>\n",
       "      <th>Minimum Requirements</th>\n",
       "    </tr>\n",
       "  </thead>\n",
       "  <tbody>\n",
       "    <tr>\n",
       "      <th>count</th>\n",
       "      <td>71699</td>\n",
       "      <td>71700</td>\n",
       "      <td>71700</td>\n",
       "      <td>71569</td>\n",
       "      <td>71700</td>\n",
       "      <td>71489</td>\n",
       "      <td>56480</td>\n",
       "      <td>5371</td>\n",
       "      <td>56480</td>\n",
       "      <td>5371</td>\n",
       "      <td>71479</td>\n",
       "      <td>71183</td>\n",
       "      <td>71700</td>\n",
       "      <td>71700</td>\n",
       "      <td>71700</td>\n",
       "      <td>70576</td>\n",
       "    </tr>\n",
       "    <tr>\n",
       "      <th>unique</th>\n",
       "      <td>71699</td>\n",
       "      <td>654</td>\n",
       "      <td>827</td>\n",
       "      <td>4441</td>\n",
       "      <td>71700</td>\n",
       "      <td>71090</td>\n",
       "      <td>18</td>\n",
       "      <td>7</td>\n",
       "      <td>13391</td>\n",
       "      <td>5296</td>\n",
       "      <td>45353</td>\n",
       "      <td>38543</td>\n",
       "      <td>11058</td>\n",
       "      <td>65817</td>\n",
       "      <td>5418</td>\n",
       "      <td>63201</td>\n",
       "    </tr>\n",
       "    <tr>\n",
       "      <th>top</th>\n",
       "      <td>Pixel Gun 3D: PC Edition</td>\n",
       "      <td>Free</td>\n",
       "      <td>Free</td>\n",
       "      <td>Coming soon</td>\n",
       "      <td>https://store.steampowered.com/app/2524890/Pix...</td>\n",
       "      <td>Find the objects that are hidden on the map.</td>\n",
       "      <td>Very Positive</td>\n",
       "      <td>Very Positive</td>\n",
       "      <td>- Need more user reviews to generate a score</td>\n",
       "      <td>- 90% of the 624 user reviews for this game ar...</td>\n",
       "      <td>Choice of Games</td>\n",
       "      <td>Big Fish Games</td>\n",
       "      <td>['English']</td>\n",
       "      <td>['Indie', 'Casual']</td>\n",
       "      <td>['Single-player']</td>\n",
       "      <td>Requires a 64-bit processor and operating syst...</td>\n",
       "    </tr>\n",
       "    <tr>\n",
       "      <th>freq</th>\n",
       "      <td>1</td>\n",
       "      <td>17585</td>\n",
       "      <td>17585</td>\n",
       "      <td>5887</td>\n",
       "      <td>1</td>\n",
       "      <td>34</td>\n",
       "      <td>11039</td>\n",
       "      <td>3151</td>\n",
       "      <td>18999</td>\n",
       "      <td>3</td>\n",
       "      <td>162</td>\n",
       "      <td>459</td>\n",
       "      <td>38083</td>\n",
       "      <td>284</td>\n",
       "      <td>17262</td>\n",
       "      <td>274</td>\n",
       "    </tr>\n",
       "  </tbody>\n",
       "</table>\n",
       "</div>"
      ],
      "text/plain": [
       "                           Title Original Price Discounted Price Release Date  \\\n",
       "count                      71699          71700            71700        71569   \n",
       "unique                     71699            654              827         4441   \n",
       "top     Pixel Gun 3D: PC Edition           Free             Free  Coming soon   \n",
       "freq                           1          17585            17585         5887   \n",
       "\n",
       "                                                     Link  \\\n",
       "count                                               71700   \n",
       "unique                                              71700   \n",
       "top     https://store.steampowered.com/app/2524890/Pix...   \n",
       "freq                                                    1   \n",
       "\n",
       "                                    Game Description Recent Reviews Summary  \\\n",
       "count                                          71489                  56480   \n",
       "unique                                         71090                     18   \n",
       "top     Find the objects that are hidden on the map.          Very Positive   \n",
       "freq                                              34                  11039   \n",
       "\n",
       "       All Reviews Summary                         Recent Reviews Number  \\\n",
       "count                 5371                                         56480   \n",
       "unique                   7                                         13391   \n",
       "top          Very Positive  - Need more user reviews to generate a score   \n",
       "freq                  3151                                         18999   \n",
       "\n",
       "                                       All Reviews Number        Developer  \\\n",
       "count                                                5371            71479   \n",
       "unique                                               5296            45353   \n",
       "top     - 90% of the 624 user reviews for this game ar...  Choice of Games   \n",
       "freq                                                    3              162   \n",
       "\n",
       "             Publisher Supported Languages         Popular Tags  \\\n",
       "count            71183               71700                71700   \n",
       "unique           38543               11058                65817   \n",
       "top     Big Fish Games         ['English']  ['Indie', 'Casual']   \n",
       "freq               459               38083                  284   \n",
       "\n",
       "            Game Features                               Minimum Requirements  \n",
       "count               71700                                              70576  \n",
       "unique               5418                                              63201  \n",
       "top     ['Single-player']  Requires a 64-bit processor and operating syst...  \n",
       "freq                17262                                                274  "
      ]
     },
     "execution_count": 6,
     "metadata": {},
     "output_type": "execute_result"
    }
   ],
   "source": [
    "game_data.describe()"
   ]
  },
  {
   "cell_type": "code",
   "execution_count": 7,
   "metadata": {},
   "outputs": [
    {
     "name": "stdout",
     "output_type": "stream",
     "text": [
      "<class 'pandas.core.frame.DataFrame'>\n",
      "RangeIndex: 71700 entries, 0 to 71699\n",
      "Data columns (total 16 columns):\n",
      " #   Column                  Non-Null Count  Dtype \n",
      "---  ------                  --------------  ----- \n",
      " 0   Title                   71699 non-null  object\n",
      " 1   Original Price          71700 non-null  object\n",
      " 2   Discounted Price        71700 non-null  object\n",
      " 3   Release Date            71569 non-null  object\n",
      " 4   Link                    71700 non-null  object\n",
      " 5   Game Description        71489 non-null  object\n",
      " 6   Recent Reviews Summary  56480 non-null  object\n",
      " 7   All Reviews Summary     5371 non-null   object\n",
      " 8   Recent Reviews Number   56480 non-null  object\n",
      " 9   All Reviews Number      5371 non-null   object\n",
      " 10  Developer               71479 non-null  object\n",
      " 11  Publisher               71183 non-null  object\n",
      " 12  Supported Languages     71700 non-null  object\n",
      " 13  Popular Tags            71700 non-null  object\n",
      " 14  Game Features           71700 non-null  object\n",
      " 15  Minimum Requirements    70576 non-null  object\n",
      "dtypes: object(16)\n",
      "memory usage: 8.8+ MB\n"
     ]
    }
   ],
   "source": [
    "game_data.info()"
   ]
  },
  {
   "cell_type": "code",
   "execution_count": 8,
   "metadata": {},
   "outputs": [
    {
     "data": {
      "text/plain": [
       "71699"
      ]
     },
     "execution_count": 8,
     "metadata": {},
     "output_type": "execute_result"
    }
   ],
   "source": [
    "# count all the unique titles in the dataset\n",
    "unique_titles = game_data['Title'].nunique()\n",
    "unique_titles"
   ]
  },
  {
   "cell_type": "code",
   "execution_count": 9,
   "metadata": {},
   "outputs": [
    {
     "data": {
      "text/plain": [
       "Title                         1\n",
       "Release Date                131\n",
       "Game Description            211\n",
       "Recent Reviews Summary    15220\n",
       "All Reviews Summary       66329\n",
       "Recent Reviews Number     15220\n",
       "All Reviews Number        66329\n",
       "Developer                   221\n",
       "Publisher                   517\n",
       "Minimum Requirements       1124\n",
       "dtype: int64"
      ]
     },
     "execution_count": 9,
     "metadata": {},
     "output_type": "execute_result"
    }
   ],
   "source": [
    "# check the number of null values in each column \n",
    "null_counts = game_data.isnull().sum()\n",
    "null_counts[null_counts > 0]"
   ]
  },
  {
   "cell_type": "code",
   "execution_count": 10,
   "metadata": {},
   "outputs": [
    {
     "data": {
      "text/plain": [
       "'- 89% of the 75,284 user reviews in the last 30 days are positive.'"
      ]
     },
     "execution_count": 10,
     "metadata": {},
     "output_type": "execute_result"
    }
   ],
   "source": [
    "game_data['Recent Reviews Number'][1]"
   ]
  },
  {
   "cell_type": "markdown",
   "metadata": {},
   "source": [
    "## Data Cleaning "
   ]
  },
  {
   "cell_type": "code",
   "execution_count": 11,
   "metadata": {},
   "outputs": [
    {
     "name": "stdout",
     "output_type": "stream",
     "text": [
      "Number of duplicate rows: 0\n"
     ]
    }
   ],
   "source": [
    "# removing duplicates \n",
    "duplicates = game_data.duplicated().sum()\n",
    "print(f\"Number of duplicate rows: {duplicates}\")\n",
    "game_data.drop_duplicates(inplace=True)\n"
   ]
  },
  {
   "cell_type": "code",
   "execution_count": 12,
   "metadata": {},
   "outputs": [],
   "source": [
    "# hidden null values\n",
    "game_data.replace(\" \", np.nan, inplace=True)\n",
    "game_data.replace(\"N/A\", np.nan, inplace=True)"
   ]
  },
  {
   "cell_type": "code",
   "execution_count": 13,
   "metadata": {},
   "outputs": [
    {
     "data": {
      "text/plain": [
       "<Axes: >"
      ]
     },
     "execution_count": 13,
     "metadata": {},
     "output_type": "execute_result"
    },
    {
     "data": {
      "image/png": "[encoded data removed]",
      "text/plain": [
       "<Figure size 640x480 with 1 Axes>"
      ]
     },
     "metadata": {},
     "output_type": "display_data"
    }
   ],
   "source": [
    "# visulization of missing data\n",
    "plt.figure\n",
    "sns.heatmap(game_data.isnull(), cbar=False, cmap='viridis') "
   ]
  },
  {
   "cell_type": "code",
   "execution_count": 14,
   "metadata": {},
   "outputs": [
    {
     "data": {
      "text/plain": [
       "1    $14.99\n",
       "2      Free\n",
       "3    $34.78\n",
       "4      Free\n",
       "5      Free\n",
       "6    $34.99\n",
       "7    $29.99\n",
       "8    $19.99\n",
       "9      Free\n",
       "Name: Original Price, dtype: object"
      ]
     },
     "execution_count": 14,
     "metadata": {},
     "output_type": "execute_result"
    }
   ],
   "source": [
    "game_data['Original Price'][1:10]"
   ]
  },
  {
   "cell_type": "code",
   "execution_count": 15,
   "metadata": {},
   "outputs": [
    {
     "name": "stderr",
     "output_type": "stream",
     "text": [
      "<>:3: SyntaxWarning: invalid escape sequence '\\$'\n",
      "<>:3: SyntaxWarning: invalid escape sequence '\\$'\n",
      "/tmp/ipykernel_19524/911581223.py:3: SyntaxWarning: invalid escape sequence '\\$'\n",
      "  game_data['Original Price'] = game_data['Original Price'].replace('[\\$,]', '', regex=True).astype(float)\n"
     ]
    }
   ],
   "source": [
    "# as we can see the Original Price column has $ sign and \"Free\" values we need to clean it make Free as 0 and remoe the $ sign\n",
    "game_data['Original Price'] = game_data['Original Price'].replace('Free', 0)\n",
    "game_data['Original Price'] = game_data['Original Price'].replace('[\\$,]', '', regex=True).astype(float)"
   ]
  },
  {
   "cell_type": "code",
   "execution_count": 16,
   "metadata": {},
   "outputs": [
    {
     "data": {
      "text/plain": [
       "1    14.99\n",
       "2     0.00\n",
       "3    34.78\n",
       "4     0.00\n",
       "5     0.00\n",
       "6    34.99\n",
       "7    29.99\n",
       "8    19.99\n",
       "9     0.00\n",
       "Name: Original Price, dtype: float64"
      ]
     },
     "execution_count": 16,
     "metadata": {},
     "output_type": "execute_result"
    }
   ],
   "source": [
    "game_data['Original Price'][1:10]"
   ]
  },
  {
   "cell_type": "code",
   "execution_count": 17,
   "metadata": {},
   "outputs": [
    {
     "name": "stderr",
     "output_type": "stream",
     "text": [
      "<>:3: SyntaxWarning: invalid escape sequence '\\$'\n",
      "<>:3: SyntaxWarning: invalid escape sequence '\\$'\n",
      "/tmp/ipykernel_19524/1459411095.py:3: SyntaxWarning: invalid escape sequence '\\$'\n",
      "  game_data['Discounted Price'] = game_data['Discounted Price'].replace('[\\$,]', '', regex=True).astype(float)\n"
     ]
    },
    {
     "data": {
      "text/plain": [
       "1    14.99\n",
       "2     0.00\n",
       "3    17.39\n",
       "4     0.00\n",
       "5     0.00\n",
       "6    34.99\n",
       "7    14.99\n",
       "8    19.99\n",
       "9     0.00\n",
       "Name: Discounted Price, dtype: float64"
      ]
     },
     "execution_count": 17,
     "metadata": {},
     "output_type": "execute_result"
    }
   ],
   "source": [
    "# doing the same for the Discounted Price column\n",
    "game_data['Discounted Price'] = game_data['Discounted Price'].replace('Free', 0)\n",
    "game_data['Discounted Price'] = game_data['Discounted Price'].replace('[\\$,]', '', regex=True).astype(float)\n",
    "game_data['Discounted Price'][1:10]"
   ]
  },
  {
   "cell_type": "code",
   "execution_count": 18,
   "metadata": {},
   "outputs": [],
   "source": [
    "# Fixing the Release Date column\n",
    "game_data['Release Date'] = pd.to_datetime(game_data['Release Date'], errors='coerce')"
   ]
  },
  {
   "cell_type": "code",
   "execution_count": 19,
   "metadata": {},
   "outputs": [
    {
     "data": {
      "text/plain": [
       "0   2023-08-03\n",
       "1   2012-08-21\n",
       "2   2020-11-04\n",
       "3   2021-11-08\n",
       "4   2022-10-27\n",
       "Name: Release Date, dtype: datetime64[ns]"
      ]
     },
     "execution_count": 19,
     "metadata": {},
     "output_type": "execute_result"
    }
   ],
   "source": [
    "game_data['Release Date'].head()"
   ]
  },
  {
   "cell_type": "code",
   "execution_count": 20,
   "metadata": {},
   "outputs": [],
   "source": [
    "# making a new column for the year of release\n",
    "game_data['Release Year'] = game_data['Release Date'].dt.year"
   ]
  },
  {
   "cell_type": "code",
   "execution_count": 21,
   "metadata": {},
   "outputs": [
    {
     "data": {
      "image/png": "[encoded data removed]",
      "text/plain": [
       "<Figure size 1200x600 with 1 Axes>"
      ]
     },
     "metadata": {},
     "output_type": "display_data"
    }
   ],
   "source": [
    "# visulalization of game year distribution\n",
    "plt.figure(figsize=(12, 6))\n",
    "sns.countplot(data=game_data, x='Release Year', order=game_data['Release Year'].value_counts().index)\n",
    "plt.xticks(rotation=45)\n",
    "plt.title('Distribution of Game Releases by Year')\n",
    "plt.xlabel('Release Year')\n",
    "plt.ylabel('Number of Games')\n",
    "plt.show()"
   ]
  },
  {
   "cell_type": "code",
   "execution_count": 22,
   "metadata": {},
   "outputs": [],
   "source": [
    "# cleaing the text columns \n",
    "game_data['Recent Reviews Number'] = game_data['Recent Reviews Number'].str.replace(',', '', regex=False).astype(str)\n",
    "game_data['All Reviews Number'] = game_data['All Reviews Number'].str.replace(',', '', regex=False).astype(str)"
   ]
  },
  {
   "cell_type": "code",
   "execution_count": 23,
   "metadata": {},
   "outputs": [
    {
     "data": {
      "text/html": [
       "<div>\n",
       "<style scoped>\n",
       "    .dataframe tbody tr th:only-of-type {\n",
       "        vertical-align: middle;\n",
       "    }\n",
       "\n",
       "    .dataframe tbody tr th {\n",
       "        vertical-align: top;\n",
       "    }\n",
       "\n",
       "    .dataframe thead th {\n",
       "        text-align: right;\n",
       "    }\n",
       "</style>\n",
       "<table border=\"1\" class=\"dataframe\">\n",
       "  <thead>\n",
       "    <tr style=\"text-align: right;\">\n",
       "      <th></th>\n",
       "      <th>Title</th>\n",
       "      <th>Original Price</th>\n",
       "      <th>Discounted Price</th>\n",
       "      <th>Release Date</th>\n",
       "      <th>Link</th>\n",
       "      <th>Game Description</th>\n",
       "      <th>Recent Reviews Summary</th>\n",
       "      <th>All Reviews Summary</th>\n",
       "      <th>Recent Reviews Number</th>\n",
       "      <th>All Reviews Number</th>\n",
       "      <th>Developer</th>\n",
       "      <th>Publisher</th>\n",
       "      <th>Supported Languages</th>\n",
       "      <th>Popular Tags</th>\n",
       "      <th>Game Features</th>\n",
       "      <th>Minimum Requirements</th>\n",
       "      <th>Release Year</th>\n",
       "    </tr>\n",
       "  </thead>\n",
       "  <tbody>\n",
       "    <tr>\n",
       "      <th>0</th>\n",
       "      <td>Baldur's Gate 3</td>\n",
       "      <td>29.99</td>\n",
       "      <td>29.99</td>\n",
       "      <td>2023-08-03</td>\n",
       "      <td>https://store.steampowered.com/app/1086940/Bal...</td>\n",
       "      <td>Baldur’s Gate 3 is a story-rich, party-based R...</td>\n",
       "      <td>Overwhelmingly Positive</td>\n",
       "      <td>Very Positive</td>\n",
       "      <td>- 96% of the 128900 user reviews in the last 3...</td>\n",
       "      <td>- 94% of the 188617 user reviews for this game...</td>\n",
       "      <td>Larian Studios</td>\n",
       "      <td>Larian Studios</td>\n",
       "      <td>['English', 'French', 'German', 'Spanish - Spa...</td>\n",
       "      <td>['RPG', 'Choices Matter', 'Character Customiza...</td>\n",
       "      <td>['Single-player', 'Online Co-op', 'LAN Co-op',...</td>\n",
       "      <td>Requires a 64-bit processor and operating syst...</td>\n",
       "      <td>2023.0</td>\n",
       "    </tr>\n",
       "    <tr>\n",
       "      <th>1</th>\n",
       "      <td>Counter-Strike: Global Offensive</td>\n",
       "      <td>14.99</td>\n",
       "      <td>14.99</td>\n",
       "      <td>2012-08-21</td>\n",
       "      <td>https://store.steampowered.com/app/730/Counter...</td>\n",
       "      <td>Counter-Strike: Global Offensive (CS: GO) expa...</td>\n",
       "      <td>Very Positive</td>\n",
       "      <td>Very Positive</td>\n",
       "      <td>- 89% of the 75284 user reviews in the last 30...</td>\n",
       "      <td>- 88% of the 7428921 user reviews for this gam...</td>\n",
       "      <td>Valve, Hidden Path Entertainment</td>\n",
       "      <td>Valve</td>\n",
       "      <td>['English', 'Czech', 'Danish', 'Dutch', 'Finni...</td>\n",
       "      <td>['FPS', 'Shooter', 'Multiplayer', 'Competitive...</td>\n",
       "      <td>['Steam Achievements', 'Full controller suppor...</td>\n",
       "      <td>OS: |  Windows® 7/Vista/XP | Processor: |  Int...</td>\n",
       "      <td>2012.0</td>\n",
       "    </tr>\n",
       "    <tr>\n",
       "      <th>2</th>\n",
       "      <td>Apex Legends™</td>\n",
       "      <td>0.00</td>\n",
       "      <td>0.00</td>\n",
       "      <td>2020-11-04</td>\n",
       "      <td>https://store.steampowered.com/app/1172470/Ape...</td>\n",
       "      <td>Apex Legends is the award-winning, free-to-pla...</td>\n",
       "      <td>Mixed</td>\n",
       "      <td>Very Positive</td>\n",
       "      <td>- 65% of the 18581 user reviews in the last 30...</td>\n",
       "      <td>- 80% of the 701597 user reviews for this game...</td>\n",
       "      <td>Respawn Entertainment</td>\n",
       "      <td>Electronic Arts</td>\n",
       "      <td>['English', 'French', 'Italian', 'German', 'Sp...</td>\n",
       "      <td>['Free to Play', 'Multiplayer', 'Battle Royale...</td>\n",
       "      <td>['Online PvP', 'Online Co-op', 'Steam Achievem...</td>\n",
       "      <td>Requires a 64-bit processor and operating syst...</td>\n",
       "      <td>2020.0</td>\n",
       "    </tr>\n",
       "    <tr>\n",
       "      <th>3</th>\n",
       "      <td>Forza Horizon 5</td>\n",
       "      <td>34.78</td>\n",
       "      <td>17.39</td>\n",
       "      <td>2021-11-08</td>\n",
       "      <td>https://store.steampowered.com/app/1551360/For...</td>\n",
       "      <td>Your Ultimate Horizon Adventure awaits! Explor...</td>\n",
       "      <td>Very Positive</td>\n",
       "      <td>Very Positive</td>\n",
       "      <td>- 87% of the 4120 user reviews in the last 30 ...</td>\n",
       "      <td>- 88% of the 123162 user reviews for this game...</td>\n",
       "      <td>Playground Games</td>\n",
       "      <td>Xbox Game Studios</td>\n",
       "      <td>['English', 'French', 'Italian', 'German', 'Sp...</td>\n",
       "      <td>['Racing', 'Open World', 'Driving', 'Multiplay...</td>\n",
       "      <td>['Single-player', 'Online PvP', 'Online Co-op'...</td>\n",
       "      <td>Requires a 64-bit processor and operating syst...</td>\n",
       "      <td>2021.0</td>\n",
       "    </tr>\n",
       "    <tr>\n",
       "      <th>4</th>\n",
       "      <td>Call of Duty®</td>\n",
       "      <td>0.00</td>\n",
       "      <td>0.00</td>\n",
       "      <td>2022-10-27</td>\n",
       "      <td>https://store.steampowered.com/app/1938090/Cal...</td>\n",
       "      <td>Welcome to Call of Duty® HQ, the home of Call ...</td>\n",
       "      <td>Mixed</td>\n",
       "      <td>Mixed</td>\n",
       "      <td>- 49% of the 8257 user reviews in the last 30 ...</td>\n",
       "      <td>- 57% of the 236876 user reviews for this game...</td>\n",
       "      <td>Infinity Ward, Raven Software, Beenox, Treyarc...</td>\n",
       "      <td>Activision</td>\n",
       "      <td>['English', 'French', 'Italian', 'German', 'Sp...</td>\n",
       "      <td>['FPS', 'Multiplayer', 'Shooter', 'Action', 'S...</td>\n",
       "      <td>['Single-player', 'Online PvP', 'Online Co-op'...</td>\n",
       "      <td>Requires a 64-bit processor and operating syst...</td>\n",
       "      <td>2022.0</td>\n",
       "    </tr>\n",
       "  </tbody>\n",
       "</table>\n",
       "</div>"
      ],
      "text/plain": [
       "                              Title  Original Price  Discounted Price  \\\n",
       "0                   Baldur's Gate 3           29.99             29.99   \n",
       "1  Counter-Strike: Global Offensive           14.99             14.99   \n",
       "2                     Apex Legends™            0.00              0.00   \n",
       "3                   Forza Horizon 5           34.78             17.39   \n",
       "4                     Call of Duty®            0.00              0.00   \n",
       "\n",
       "  Release Date                                               Link  \\\n",
       "0   2023-08-03  https://store.steampowered.com/app/1086940/Bal...   \n",
       "1   2012-08-21  https://store.steampowered.com/app/730/Counter...   \n",
       "2   2020-11-04  https://store.steampowered.com/app/1172470/Ape...   \n",
       "3   2021-11-08  https://store.steampowered.com/app/1551360/For...   \n",
       "4   2022-10-27  https://store.steampowered.com/app/1938090/Cal...   \n",
       "\n",
       "                                    Game Description   Recent Reviews Summary  \\\n",
       "0  Baldur’s Gate 3 is a story-rich, party-based R...  Overwhelmingly Positive   \n",
       "1  Counter-Strike: Global Offensive (CS: GO) expa...            Very Positive   \n",
       "2  Apex Legends is the award-winning, free-to-pla...                    Mixed   \n",
       "3  Your Ultimate Horizon Adventure awaits! Explor...            Very Positive   \n",
       "4  Welcome to Call of Duty® HQ, the home of Call ...                    Mixed   \n",
       "\n",
       "  All Reviews Summary                              Recent Reviews Number  \\\n",
       "0       Very Positive  - 96% of the 128900 user reviews in the last 3...   \n",
       "1       Very Positive  - 89% of the 75284 user reviews in the last 30...   \n",
       "2       Very Positive  - 65% of the 18581 user reviews in the last 30...   \n",
       "3       Very Positive  - 87% of the 4120 user reviews in the last 30 ...   \n",
       "4               Mixed  - 49% of the 8257 user reviews in the last 30 ...   \n",
       "\n",
       "                                  All Reviews Number  \\\n",
       "0  - 94% of the 188617 user reviews for this game...   \n",
       "1  - 88% of the 7428921 user reviews for this gam...   \n",
       "2  - 80% of the 701597 user reviews for this game...   \n",
       "3  - 88% of the 123162 user reviews for this game...   \n",
       "4  - 57% of the 236876 user reviews for this game...   \n",
       "\n",
       "                                           Developer          Publisher  \\\n",
       "0                                     Larian Studios     Larian Studios   \n",
       "1                   Valve, Hidden Path Entertainment              Valve   \n",
       "2                              Respawn Entertainment    Electronic Arts   \n",
       "3                                   Playground Games  Xbox Game Studios   \n",
       "4  Infinity Ward, Raven Software, Beenox, Treyarc...         Activision   \n",
       "\n",
       "                                 Supported Languages  \\\n",
       "0  ['English', 'French', 'German', 'Spanish - Spa...   \n",
       "1  ['English', 'Czech', 'Danish', 'Dutch', 'Finni...   \n",
       "2  ['English', 'French', 'Italian', 'German', 'Sp...   \n",
       "3  ['English', 'French', 'Italian', 'German', 'Sp...   \n",
       "4  ['English', 'French', 'Italian', 'German', 'Sp...   \n",
       "\n",
       "                                        Popular Tags  \\\n",
       "0  ['RPG', 'Choices Matter', 'Character Customiza...   \n",
       "1  ['FPS', 'Shooter', 'Multiplayer', 'Competitive...   \n",
       "2  ['Free to Play', 'Multiplayer', 'Battle Royale...   \n",
       "3  ['Racing', 'Open World', 'Driving', 'Multiplay...   \n",
       "4  ['FPS', 'Multiplayer', 'Shooter', 'Action', 'S...   \n",
       "\n",
       "                                       Game Features  \\\n",
       "0  ['Single-player', 'Online Co-op', 'LAN Co-op',...   \n",
       "1  ['Steam Achievements', 'Full controller suppor...   \n",
       "2  ['Online PvP', 'Online Co-op', 'Steam Achievem...   \n",
       "3  ['Single-player', 'Online PvP', 'Online Co-op'...   \n",
       "4  ['Single-player', 'Online PvP', 'Online Co-op'...   \n",
       "\n",
       "                                Minimum Requirements  Release Year  \n",
       "0  Requires a 64-bit processor and operating syst...        2023.0  \n",
       "1  OS: |  Windows® 7/Vista/XP | Processor: |  Int...        2012.0  \n",
       "2  Requires a 64-bit processor and operating syst...        2020.0  \n",
       "3  Requires a 64-bit processor and operating syst...        2021.0  \n",
       "4  Requires a 64-bit processor and operating syst...        2022.0  "
      ]
     },
     "execution_count": 23,
     "metadata": {},
     "output_type": "execute_result"
    }
   ],
   "source": [
    "game_data.head()"
   ]
  },
  {
   "cell_type": "code",
   "execution_count": 24,
   "metadata": {},
   "outputs": [],
   "source": [
    "# replace null values in the 'Recent Reviews Number' and 'All Reviews Number' columns with no reviews\n",
    "import warnings \n",
    "warnings.filterwarnings(\"ignore\")\n",
    "game_data['Recent Reviews Number'].fillna('No Reviews', inplace=True)\n",
    "game_data['All Reviews Number'].fillna('No Reviews', inplace=True)  "
   ]
  },
  {
   "cell_type": "code",
   "execution_count": 25,
   "metadata": {},
   "outputs": [
    {
     "data": {
      "text/plain": [
       "Title                         1\n",
       "Original Price                0\n",
       "Discounted Price              0\n",
       "Release Date              10308\n",
       "Link                          0\n",
       "Game Description            211\n",
       "Recent Reviews Summary    15220\n",
       "All Reviews Summary       66329\n",
       "Recent Reviews Number         0\n",
       "All Reviews Number            0\n",
       "Developer                   221\n",
       "Publisher                   517\n",
       "Supported Languages           0\n",
       "Popular Tags                  0\n",
       "Game Features                 0\n",
       "Minimum Requirements       1124\n",
       "Release Year              10308\n",
       "dtype: int64"
      ]
     },
     "execution_count": 25,
     "metadata": {},
     "output_type": "execute_result"
    }
   ],
   "source": [
    "game_data.isnull().sum()"
   ]
  },
  {
   "cell_type": "code",
   "execution_count": 26,
   "metadata": {},
   "outputs": [],
   "source": [
    "df = game_data.copy()"
   ]
  },
  {
   "cell_type": "code",
   "execution_count": null,
   "metadata": {},
   "outputs": [
    {
     "name": "stdout",
     "output_type": "stream",
     "text": [
      "71700\n",
      "set_date aşamasında 9811 satır veri kaybı oldu.\n",
      "set_date has just runned.\n",
      "clean_price_column has just runned for Original Price.\n",
      "clean_price_column has just runned for Discounted Price.\n",
      "parse_minimum_requirements has just runned.\n",
      "fix_storage has just runned.\n",
      "fix_storage aşamasında 60 satır veri kaybı oldu.\n",
      "fix_memory has just runned.\n",
      "fix_memory aşamasında 276 satır veri kaybı oldu.\n"
     ]
    }
   ],
   "source": []
  },
  {
   "cell_type": "code",
   "execution_count": 32,
   "metadata": {},
   "outputs": [
    {
     "data": {
      "text/plain": [
       "Title                         0\n",
       "Original Price                0\n",
       "Discounted Price              0\n",
       "Release Date                  0\n",
       "Link                          0\n",
       "Game Description            148\n",
       "Recent Reviews Summary     5419\n",
       "All Reviews Summary       56268\n",
       "Recent Reviews Number      5419\n",
       "All Reviews Number        56268\n",
       "Developer                   172\n",
       "Publisher                   422\n",
       "Supported Languages           0\n",
       "Popular Tags                  0\n",
       "Game Features                 0\n",
       "Minimum Requirements       1047\n",
       "Memory_mb                  4593\n",
       "Storage_mb                 5563\n",
       "dtype: int64"
      ]
     },
     "execution_count": 32,
     "metadata": {},
     "output_type": "execute_result"
    }
   ],
   "source": [
    "prep1_df.isnull().sum()"
   ]
  },
  {
   "cell_type": "code",
   "execution_count": 33,
   "metadata": {},
   "outputs": [],
   "source": [
    "import pandas as pd\n",
    "import numpy as np\n",
    "\n",
    "class Preprocessor:\n",
    "    def __init__(self, file_path):\n",
    "        self.df = pd.read_csv(file_path)\n",
    "\n",
    "    def set_date(self, fill_na):\n",
    "        length_first = self.df.shape[0]\n",
    "\n",
    "        # Handle special cases\n",
    "        drop_values = [\"Coming soon\", \"To be announced\"]\n",
    "        q_indices = self.df.index[self.df['Release Date'].str.contains('Q', na=False)].tolist()\n",
    "        year_indices = self.df.index[self.df['Release Date'].str.match(r'^\\d{4}$', na=False)].tolist()\n",
    "        \n",
    "        if fill_na:\n",
    "            self.df.loc[self.df[\"Release Date\"].isin(drop_values), 'Release Date'] = np.nan\n",
    "            self.df.loc[q_indices, 'Release Date'] = np.nan\n",
    "            self.df.loc[year_indices, 'Release Date'] = np.nan\n",
    "        else:\n",
    "            self.df.drop(self.df[self.df[\"Release Date\"].isin(drop_values)].index, inplace=True)\n",
    "            self.df.drop(index=q_indices + year_indices, inplace=True)\n",
    "\n",
    "        # Regex formats\n",
    "        regex_full_date = r\"^\\d{1,2}\\s(?:Jan(?:uary)?|Feb(?:ruary)?|Mar(?:ch)?|Apr(?:il)?|May|June?|July?|Aug(?:ust)?|Sep(?:tember)?|Oct(?:ober)?|Nov(?:ember)?|Dec(?:ember)?),\\s\\d{4}$\"\n",
    "        regex_month_year = r\"^(?:Jan(?:uary)?|Feb(?:ruary)?|Mar(?:ch)?|Apr(?:il)?|May|June?|July?|Aug(?:ust)?|Sep(?:tember)?|Oct(?:ober)?|Nov(?:ember)?|Dec(?:ember)?)\\s\\d{4}$\"\n",
    "\n",
    "        # Convert known formats\n",
    "        self.df.loc[self.df['Release Date'].str.match(regex_full_date, na=False), 'Release Date'] = pd.to_datetime(\n",
    "            self.df['Release Date'], format='%d %b, %Y', errors='coerce')\n",
    "        self.df.loc[self.df['Release Date'].str.match(regex_month_year, na=False), 'Release Date'] = pd.to_datetime(\n",
    "            self.df['Release Date'], errors='coerce')\n",
    "\n",
    "        # Final conversion\n",
    "        self.df['Release Date'] = pd.to_datetime(self.df['Release Date'], errors='coerce')\n",
    "        self.df.dropna(subset=['Release Date'], inplace=True)\n",
    "        self.df.reset_index(drop=True, inplace=True)\n",
    "\n",
    "        print(f\"set_date: Dropped {length_first - self.df.shape[0]} rows.\")\n",
    "\n",
    "    def clean_price_column(self, column_name, fill_free=True, convert_column_type_to_float=True):\n",
    "        self.df[column_name] = (self.df[column_name]\n",
    "            .str.replace(\"$\", \"\", regex=False)\n",
    "            .str.replace(\",\", \"\", regex=False)\n",
    "            .replace(\"Free\", \"0\") if fill_free else self.df[column_name])\n",
    "        \n",
    "        self.df[column_name] = self.df[column_name].replace('', np.nan)\n",
    "\n",
    "        if convert_column_type_to_float:\n",
    "            self.df[column_name] = pd.to_numeric(self.df[column_name], errors='coerce')\n",
    "\n",
    "        print(f\"clean_price_column: Cleaned {column_name}.\")\n",
    "\n",
    "    def parse_minimum_requirements(self, keywords):\n",
    "        all_values = []\n",
    "\n",
    "        for index, row in self.df.iterrows():\n",
    "            try:\n",
    "                val_list = str(row.get(\"Minimum Requirements\", \"\")).split(\"|\")\n",
    "                val_list = [item.strip() for item in val_list]\n",
    "            except Exception:\n",
    "                val_list = []\n",
    "\n",
    "            requirements_dict = {}\n",
    "            for word in keywords:\n",
    "                for i, val in enumerate(val_list):\n",
    "                    if val.lower().startswith(f\"{word.lower()}:\"):\n",
    "                        if i + 1 < len(val_list):\n",
    "                            requirements_dict[word] = val_list[i + 1]\n",
    "                        break\n",
    "            all_values.append({'Index': index, **requirements_dict})\n",
    "\n",
    "        print(\"parse_minimum_requirements: Parsed successfully.\")\n",
    "        return all_values\n",
    "\n",
    "    def fix_storage(self):\n",
    "        length_first = self.df.shape[0]\n",
    "\n",
    "        self.df['Storage'] = self.df['Storage'].astype(str).str.replace(\"available space\", \"\", regex=False)\n",
    "\n",
    "        # Convert GB to MB\n",
    "        for index, value in self.df['Storage'].items():\n",
    "            if 'GB' in value:\n",
    "                try:\n",
    "                    numeric_value = float(value.replace(' GB', '').strip())\n",
    "                    self.df.at[index, 'Storage'] = f\"{int(numeric_value * 1024)}\"\n",
    "                except:\n",
    "                    self.df.at[index, 'Storage'] = np.nan\n",
    "\n",
    "        self.df['Storage'] = self.df['Storage'].str.replace(\"MB\", \"\", regex=False)\n",
    "        self.df['Storage'] = self.df['Storage'].str.replace(r\"[^\\d.]\", \"\", regex=True)\n",
    "\n",
    "        self.df['Storage'] = pd.to_numeric(self.df['Storage'], errors='coerce')\n",
    "        self.df.dropna(subset=['Storage'], inplace=True)\n",
    "        self.df.rename(columns={'Storage': 'Storage_mb'}, inplace=True)\n",
    "        self.df.reset_index(drop=True, inplace=True)\n",
    "\n",
    "        print(f\"fix_storage: Dropped {length_first - self.df.shape[0]} rows.\")\n",
    "\n",
    "    def fix_memory(self):\n",
    "        length_first = self.df.shape[0]\n",
    "\n",
    "        self.df['Memory'] = self.df['Memory'].astype(str).str.replace(\"RAM\", \"\", regex=False)\n",
    "\n",
    "        for index, value in self.df['Memory'].items():\n",
    "            if 'GB' in value:\n",
    "                try:\n",
    "                    numeric_value = float(value.replace(' GB', '').strip())\n",
    "                    self.df.at[index, 'Memory'] = f\"{int(numeric_value * 1024)}\"\n",
    "                except:\n",
    "                    self.df.at[index, 'Memory'] = np.nan\n",
    "\n",
    "        self.df['Memory'] = self.df['Memory'].str.replace(\"MB\", \"\", regex=False)\n",
    "        self.df['Memory'] = self.df['Memory'].str.replace(r\"[^\\d.]\", \"\", regex=True)\n",
    "\n",
    "        self.df['Memory'] = pd.to_numeric(self.df['Memory'], errors='coerce')\n",
    "        self.df.dropna(subset=['Memory'], inplace=True)\n",
    "        self.df.rename(columns={'Memory': 'Memory_mb'}, inplace=True)\n",
    "        self.df.reset_index(drop=True, inplace=True)\n",
    "\n",
    "        print(f\"fix_memory: Dropped {length_first - self.df.shape[0]} rows.\")\n",
    "\n",
    "    def run_preprocessor(self):\n",
    "        self.set_date(fill_na=False)\n",
    "        self.clean_price_column(\"Original Price\")\n",
    "        self.clean_price_column(\"Discounted Price\")\n",
    "\n",
    "        # Extract Memory & Storage from Minimum Requirements\n",
    "        keywords = [\"Memory\", \"Storage\"]\n",
    "        parsed_data = self.parse_minimum_requirements(keywords)\n",
    "        parsed_df = pd.DataFrame(parsed_data).set_index('Index')\n",
    "        self.df = self.df.join(parsed_df)\n",
    "        self.df.reset_index(drop=True, inplace=True)\n",
    "\n",
    "        self.fix_storage()\n",
    "        self.fix_memory()\n",
    "\n",
    "        print(\"run_preprocessor: All preprocessing steps complete.\")\n",
    "        return self.df\n"
   ]
  },
  {
   "cell_type": "code",
   "execution_count": 34,
   "metadata": {},
   "outputs": [
    {
     "name": "stdout",
     "output_type": "stream",
     "text": [
      "set_date: Dropped 9811 rows.\n",
      "clean_price_column: Cleaned Original Price.\n",
      "clean_price_column: Cleaned Discounted Price.\n",
      "parse_minimum_requirements: Parsed successfully.\n",
      "fix_storage: Dropped 5751 rows.\n",
      "fix_memory: Dropped 2128 rows.\n",
      "run_preprocessor: All preprocessing steps complete.\n",
      "<class 'pandas.core.frame.DataFrame'>\n",
      "RangeIndex: 54010 entries, 0 to 54009\n",
      "Data columns (total 18 columns):\n",
      " #   Column                  Non-Null Count  Dtype         \n",
      "---  ------                  --------------  -----         \n",
      " 0   Title                   54010 non-null  object        \n",
      " 1   Original Price          54010 non-null  float64       \n",
      " 2   Discounted Price        54010 non-null  float64       \n",
      " 3   Release Date            54010 non-null  datetime64[ns]\n",
      " 4   Link                    54010 non-null  object        \n",
      " 5   Game Description        54002 non-null  object        \n",
      " 6   Recent Reviews Summary  49503 non-null  object        \n",
      " 7   All Reviews Summary     4583 non-null   object        \n",
      " 8   Recent Reviews Number   49503 non-null  object        \n",
      " 9   All Reviews Number      4583 non-null   object        \n",
      " 10  Developer               53976 non-null  object        \n",
      " 11  Publisher               53725 non-null  object        \n",
      " 12  Supported Languages     54010 non-null  object        \n",
      " 13  Popular Tags            54010 non-null  object        \n",
      " 14  Game Features           54010 non-null  object        \n",
      " 15  Minimum Requirements    54010 non-null  object        \n",
      " 16  Memory_mb               54010 non-null  float64       \n",
      " 17  Storage_mb              54010 non-null  float64       \n",
      "dtypes: datetime64[ns](1), float64(4), object(13)\n",
      "memory usage: 7.4+ MB\n"
     ]
    }
   ],
   "source": [
    "prep = Preprocessor(\"/workspaces/codespaces-jupyter/data/merged_data.csv\")\n",
    "cleaned_df = prep.run_preprocessor()\n",
    "# Display the cleaned DataFrame\n",
    "cleaned_df.head()\n",
    "cleaned_df.info()"
   ]
  },
  {
   "cell_type": "code",
   "execution_count": 35,
   "metadata": {},
   "outputs": [
    {
     "data": {
      "text/plain": [
       "Title                         0\n",
       "Original Price                0\n",
       "Discounted Price              0\n",
       "Release Date                  0\n",
       "Link                          0\n",
       "Game Description              8\n",
       "Recent Reviews Summary     4507\n",
       "All Reviews Summary       49427\n",
       "Recent Reviews Number      4507\n",
       "All Reviews Number        49427\n",
       "Developer                    34\n",
       "Publisher                   285\n",
       "Supported Languages           0\n",
       "Popular Tags                  0\n",
       "Game Features                 0\n",
       "Minimum Requirements          0\n",
       "Memory_mb                     0\n",
       "Storage_mb                    0\n",
       "dtype: int64"
      ]
     },
     "execution_count": 35,
     "metadata": {},
     "output_type": "execute_result"
    }
   ],
   "source": [
    "cleaned_df.isnull().sum()"
   ]
  },
  {
   "cell_type": "code",
   "execution_count": 36,
   "metadata": {},
   "outputs": [
    {
     "data": {
      "text/plain": [
       "Title                         0\n",
       "Original Price                0\n",
       "Discounted Price              0\n",
       "Release Date                  0\n",
       "Link                          0\n",
       "Game Description              8\n",
       "Recent Reviews Summary     4507\n",
       "All Reviews Summary       49427\n",
       "Recent Reviews Number         0\n",
       "All Reviews Number            0\n",
       "Developer                    34\n",
       "Publisher                   285\n",
       "Supported Languages           0\n",
       "Popular Tags                  0\n",
       "Game Features                 0\n",
       "Minimum Requirements          0\n",
       "Memory_mb                     0\n",
       "Storage_mb                    0\n",
       "dtype: int64"
      ]
     },
     "execution_count": 36,
     "metadata": {},
     "output_type": "execute_result"
    }
   ],
   "source": [
    "# replacing null values in recent reviews and all reviews with 'No Reviews'\n",
    "cleaned_df['Recent Reviews Number'].fillna('No Reviews', inplace=True)\n",
    "cleaned_df['All Reviews Number'].fillna('No Reviews', inplace=True)         \n",
    "cleaned_df.isnull().sum()"
   ]
  },
  {
   "cell_type": "code",
   "execution_count": 37,
   "metadata": {},
   "outputs": [],
   "source": [
    "# doing the same for the Recent Reviews Summary and All Reviews Summary columns\n",
    "cleaned_df['Recent Reviews Summary'].fillna('No Reviews', inplace=True)\n",
    "cleaned_df['All Reviews Summary'].fillna('No Reviews', inplace=True)"
   ]
  },
  {
   "cell_type": "code",
   "execution_count": 38,
   "metadata": {},
   "outputs": [
    {
     "data": {
      "text/plain": [
       "Title                       0\n",
       "Original Price              0\n",
       "Discounted Price            0\n",
       "Release Date                0\n",
       "Link                        0\n",
       "Game Description            8\n",
       "Recent Reviews Summary      0\n",
       "All Reviews Summary         0\n",
       "Recent Reviews Number       0\n",
       "All Reviews Number          0\n",
       "Developer                  34\n",
       "Publisher                 285\n",
       "Supported Languages         0\n",
       "Popular Tags                0\n",
       "Game Features               0\n",
       "Minimum Requirements        0\n",
       "Memory_mb                   0\n",
       "Storage_mb                  0\n",
       "dtype: int64"
      ]
     },
     "execution_count": 38,
     "metadata": {},
     "output_type": "execute_result"
    }
   ],
   "source": [
    "cleaned_df.isnull().sum()"
   ]
  },
  {
   "cell_type": "code",
   "execution_count": 40,
   "metadata": {},
   "outputs": [],
   "source": [
    "# replacing null values in Developer and Publisher columns with 'Unkown'ArithmeticError\n",
    "cleaned_df['Developer'].fillna('Unknown', inplace=True)\n",
    "cleaned_df['Publisher'].fillna('Unknown', inplace=True)"
   ]
  },
  {
   "cell_type": "code",
   "execution_count": 41,
   "metadata": {},
   "outputs": [
    {
     "data": {
      "text/plain": [
       "Title                     0\n",
       "Original Price            0\n",
       "Discounted Price          0\n",
       "Release Date              0\n",
       "Link                      0\n",
       "Game Description          8\n",
       "Recent Reviews Summary    0\n",
       "All Reviews Summary       0\n",
       "Recent Reviews Number     0\n",
       "All Reviews Number        0\n",
       "Developer                 0\n",
       "Publisher                 0\n",
       "Supported Languages       0\n",
       "Popular Tags              0\n",
       "Game Features             0\n",
       "Minimum Requirements      0\n",
       "Memory_mb                 0\n",
       "Storage_mb                0\n",
       "dtype: int64"
      ]
     },
     "execution_count": 41,
     "metadata": {},
     "output_type": "execute_result"
    }
   ],
   "source": [
    "cleaned_df.isnull().sum()"
   ]
  },
  {
   "cell_type": "code",
   "execution_count": 43,
   "metadata": {},
   "outputs": [
    {
     "name": "stdout",
     "output_type": "stream",
     "text": [
      "<class 'pandas.core.frame.DataFrame'>\n",
      "RangeIndex: 54010 entries, 0 to 54009\n",
      "Data columns (total 18 columns):\n",
      " #   Column                  Non-Null Count  Dtype         \n",
      "---  ------                  --------------  -----         \n",
      " 0   Title                   54010 non-null  object        \n",
      " 1   Original Price          54010 non-null  float64       \n",
      " 2   Discounted Price        54010 non-null  float64       \n",
      " 3   Release Date            54010 non-null  datetime64[ns]\n",
      " 4   Link                    54010 non-null  object        \n",
      " 5   Game Description        54002 non-null  object        \n",
      " 6   Recent Reviews Summary  54010 non-null  object        \n",
      " 7   All Reviews Summary     54010 non-null  object        \n",
      " 8   Recent Reviews Number   54010 non-null  object        \n",
      " 9   All Reviews Number      54010 non-null  object        \n",
      " 10  Developer               54010 non-null  object        \n",
      " 11  Publisher               54010 non-null  object        \n",
      " 12  Supported Languages     54010 non-null  object        \n",
      " 13  Popular Tags            54010 non-null  object        \n",
      " 14  Game Features           54010 non-null  object        \n",
      " 15  Minimum Requirements    54010 non-null  object        \n",
      " 16  Memory_mb               54010 non-null  float64       \n",
      " 17  Storage_mb              54010 non-null  float64       \n",
      "dtypes: datetime64[ns](1), float64(4), object(13)\n",
      "memory usage: 7.4+ MB\n"
     ]
    }
   ],
   "source": [
    "# Descriptive Statistics of cleaned df\n",
    "cleaned_df.info()"
   ]
  },
  {
   "cell_type": "code",
   "execution_count": 46,
   "metadata": {},
   "outputs": [
    {
     "data": {
      "text/plain": [
       "array(['Overwhelmingly Positive', 'Very Positive', 'Mixed',\n",
       "       'Mostly Positive', 'Mostly Negative', 'No Reviews',\n",
       "       'Overwhelmingly Negative', 'Positive', 'Very Negative',\n",
       "       '9 user reviews', '3 user reviews', '1 user reviews',\n",
       "       '5 user reviews', '2 user reviews', '6 user reviews',\n",
       "       '4 user reviews', '7 user reviews', '8 user reviews', 'Negative'],\n",
       "      dtype=object)"
      ]
     },
     "execution_count": 46,
     "metadata": {},
     "output_type": "execute_result"
    }
   ],
   "source": [
    "cleaned_df['Recent Reviews Summary'].unique()"
   ]
  },
  {
   "cell_type": "code",
   "execution_count": null,
   "metadata": {},
   "outputs": [],
   "source": []
  }
 ],
 "metadata": {
  "kernelspec": {
   "display_name": "Python 3",
   "language": "python",
   "name": "python3"
  },
  "language_info": {
   "codemirror_mode": {
    "name": "ipython",
    "version": 3
   },
   "file_extension": ".py",
   "mimetype": "text/x-python",
   "name": "python",
   "nbconvert_exporter": "python",
   "pygments_lexer": "ipython3",
   "version": "3.12.1"
  },
  "orig_nbformat": 4
 },
 "nbformat": 4,
 "nbformat_minor": 2
}
