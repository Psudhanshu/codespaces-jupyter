{
 "cells": [
  {
   "metadata": {},
   "cell_type": "markdown",
   "source": [
    "# Pipelines\n",
    "Creating this notebook for learning Pipelines\n",
    "__Pipeline__ is a sequence of data transformers with an optional final predictor\n",
    "The purpose of the pipeline is to assemble several steps that can be cross-validated together while setting different parameter.For this, it enables setting parameters of the various steps using their names and the parameter name separated by '__'."
   ],
   "id": "66f5b72594e6098b"
  },
  {
   "cell_type": "code",
   "id": "initial_id",
   "metadata": {
    "collapsed": true,
    "ExecuteTime": {
     "end_time": "2025-07-03T18:04:22.213892Z",
     "start_time": "2025-07-03T18:04:22.184891Z"
    }
   },
   "source": [
    "from sklearn.svm import SVC\n",
    "from sklearn.preprocessing import StandardScaler\n",
    "from sklearn.datasets import make_classification\n",
    "from sklearn.model_selection import train_test_split\n",
    "from sklearn.pipeline import Pipeline\n",
    "X, y = make_classification(random_state = 67)\n",
    "X_train, X_test, y_train, y_test = train_test_split(X, y, random_state = 67)\n",
    "\n",
    "pipe = Pipeline([('scaler', StandardScaler()),('svc', SVC())])\n",
    "# The pipeline can be used as any other estimator and avoid leaking the test set into the train set\n",
    "pipe.fit(X_train, y_train).score(X_test, y_test)"
   ],
   "outputs": [
    {
     "data": {
      "text/plain": [
       "0.88"
      ]
     },
     "execution_count": 2,
     "metadata": {},
     "output_type": "execute_result"
    }
   ],
   "execution_count": 2
  },
  {
   "metadata": {},
   "cell_type": "markdown",
   "source": "## Decision Functions\n",
   "id": "5cc9b439a20dcab8"
  },
  {
   "metadata": {},
   "cell_type": "code",
   "outputs": [],
   "execution_count": null,
   "source": "",
   "id": "f99c70d36fa4719"
  }
 ],
 "metadata": {
  "kernelspec": {
   "display_name": "Python 3",
   "language": "python",
   "name": "python3"
  },
  "language_info": {
   "codemirror_mode": {
    "name": "ipython",
    "version": 2
   },
   "file_extension": ".py",
   "mimetype": "text/x-python",
   "name": "python",
   "nbconvert_exporter": "python",
   "pygments_lexer": "ipython2",
   "version": "2.7.6"
  }
 },
 "nbformat": 4,
 "nbformat_minor": 5
}
